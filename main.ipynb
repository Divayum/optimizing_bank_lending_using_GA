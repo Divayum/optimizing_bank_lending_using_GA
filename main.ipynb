{
 "cells": [
  {
   "cell_type": "code",
   "execution_count": null,
   "metadata": {},
   "outputs": [],
   "source": [
    "'''\n",
    "====================================================================================================\n",
    "Title:  OHM Term Project Code - Main Function\n",
    "Author: Divayum Gupta, 17IM30010, Department of Industrial and Systems Engineering, IIT Kharagpur\n",
    "Mail:   divayumgupta@gmail.com\n",
    "Date:   23 May 2020\n",
    "====================================================================================================\n",
    "'''\n",
    "'''\n",
    "VARIABLE NAMES\n",
    "\n",
    "PARAMETERS OF BANK LENDING (refer Fig 1 of research paper)\n",
    "Loan Age (alpha) - age\n",
    "Loan Size - L\n",
    "Loan Type(phi) - ltype\n",
    "Credit Rating - rating\n",
    "Credit Limit - lim\n",
    "Loan Interest Rate(rL) - interest\n",
    "Expected Loan Loss(lambda) - loss\n",
    "Deposit Rate - rD\n",
    "Reserve Ratio - K\n",
    "Financial institutions's Deposit - D\n",
    "Customer Transaction Rate - rT\n",
    "Number of 'good' customers - N\n",
    "Pre-determined Institutional Cost(delta) - IC\n",
    "****************************************************************************************************\n",
    "VARIABLES IN EVALUATING FITNESS FUNCTION (refer section 3.3)\n",
    "Loan Revenue(nu) - lrev\n",
    "Loan Cost(mu) - lcost\n",
    "Total Transaction Cost(omega) - tcost\n",
    "Institutional Transaction Cost - T\n",
    "Cost of Demand Deposit(beta) - costDD\n",
    "****************************************************************************************************\n",
    "OPTIMIZATION PARAMETERS FOR GAMCC (refer Table 5)\n",
    "Population Size - n\n",
    "Number of generations - gen\n",
    "Crossover Ratio - crossover_ratio\n",
    "Mutation Ratio - mutation_ratio\n",
    "Reproduction Ratio - repro_ratio\n",
    "****************************************************************************************************\n",
    "RESULT VARIABLES FOR GAMCC\n",
    "Individual population - gen_population\n",
    "Individual population fitness values - gen_fit\n",
    "All chromosomes ever generated and their fitness values - gen_results\n",
    "Generation average fitness values - gen_avg_fitness\n",
    "Generation maximum fitness values - gen_max_fit\n",
    "****************************************************************************************************\n",
    "OPTIMIZATION PARAMETERS FOR SIMULATED ANNEALING\n",
    "Reduction factor - c\n",
    "Total Number of Temperature Reductions - total_reductions\n",
    "Number of iterations at one temperature - n_iters\n",
    "****************************************************************************************************\n",
    "RESULT VARIABLES FOR SIMULATED ANNEALING\n",
    "Individual solution - simulation_solution\n",
    "Solution fitness value - simulation_fit\n",
    "All solutions ever generated and their fitness values - simulation_results\n",
    "'''"
   ]
  },
  {
   "cell_type": "code",
   "execution_count": 1,
   "metadata": {},
   "outputs": [],
   "source": [
    "#IMPORTING DATA HANDLING LIBRARIES\n",
    "import numpy as np\n",
    "import pandas as pd\n",
    "import random\n",
    "\n",
    "#IMPORTING VISUALISATION MODULES\n",
    "import matplotlib.pyplot as plt\n",
    "from matplotlib import style\n",
    "style.use('Solarize_Light2')\n",
    "%matplotlib qt\n",
    "\n",
    "from tqdm import tqdm\n",
    "import scipy.stats\n",
    "\n",
    "#IMPORTING OPTIMISATION FUNCTIONS\n",
    "from genetic_functions import *\n",
    "from simulated_annealing_functions import *"
   ]
  },
  {
   "cell_type": "code",
   "execution_count": 2,
   "metadata": {},
   "outputs": [
    {
     "output_type": "execute_result",
     "data": {
      "text/plain": "   Loan Age  Loan Size Loan Type Credit Rating  Interest Rate  Loan Loss\n0        10   79959.32         M           AAA          0.021     0.0002\n1        25   64334.01         M            BB          0.022     0.0058\n2         4   90327.01         M             A          0.021     0.0001\n3        11   94408.92         M            AA          0.027     0.0003\n4        18   84621.19         M           BBB          0.025     0.0024\n5         3   71544.00         M           AAA          0.026     0.0002\n6        17   90366.16         M            BB          0.023     0.0058\n7        15   81913.15         M           AAA          0.021     0.0002\n8         9   67991.48         M             A          0.028     0.0010\n9        10   55615.93         M             A          0.022     0.0010",
      "text/html": "<div>\n<style scoped>\n    .dataframe tbody tr th:only-of-type {\n        vertical-align: middle;\n    }\n\n    .dataframe tbody tr th {\n        vertical-align: top;\n    }\n\n    .dataframe thead th {\n        text-align: right;\n    }\n</style>\n<table border=\"1\" class=\"dataframe\">\n  <thead>\n    <tr style=\"text-align: right;\">\n      <th></th>\n      <th>Loan Age</th>\n      <th>Loan Size</th>\n      <th>Loan Type</th>\n      <th>Credit Rating</th>\n      <th>Interest Rate</th>\n      <th>Loan Loss</th>\n    </tr>\n  </thead>\n  <tbody>\n    <tr>\n      <th>0</th>\n      <td>10</td>\n      <td>79959.32</td>\n      <td>M</td>\n      <td>AAA</td>\n      <td>0.021</td>\n      <td>0.0002</td>\n    </tr>\n    <tr>\n      <th>1</th>\n      <td>25</td>\n      <td>64334.01</td>\n      <td>M</td>\n      <td>BB</td>\n      <td>0.022</td>\n      <td>0.0058</td>\n    </tr>\n    <tr>\n      <th>2</th>\n      <td>4</td>\n      <td>90327.01</td>\n      <td>M</td>\n      <td>A</td>\n      <td>0.021</td>\n      <td>0.0001</td>\n    </tr>\n    <tr>\n      <th>3</th>\n      <td>11</td>\n      <td>94408.92</td>\n      <td>M</td>\n      <td>AA</td>\n      <td>0.027</td>\n      <td>0.0003</td>\n    </tr>\n    <tr>\n      <th>4</th>\n      <td>18</td>\n      <td>84621.19</td>\n      <td>M</td>\n      <td>BBB</td>\n      <td>0.025</td>\n      <td>0.0024</td>\n    </tr>\n    <tr>\n      <th>5</th>\n      <td>3</td>\n      <td>71544.00</td>\n      <td>M</td>\n      <td>AAA</td>\n      <td>0.026</td>\n      <td>0.0002</td>\n    </tr>\n    <tr>\n      <th>6</th>\n      <td>17</td>\n      <td>90366.16</td>\n      <td>M</td>\n      <td>BB</td>\n      <td>0.023</td>\n      <td>0.0058</td>\n    </tr>\n    <tr>\n      <th>7</th>\n      <td>15</td>\n      <td>81913.15</td>\n      <td>M</td>\n      <td>AAA</td>\n      <td>0.021</td>\n      <td>0.0002</td>\n    </tr>\n    <tr>\n      <th>8</th>\n      <td>9</td>\n      <td>67991.48</td>\n      <td>M</td>\n      <td>A</td>\n      <td>0.028</td>\n      <td>0.0010</td>\n    </tr>\n    <tr>\n      <th>9</th>\n      <td>10</td>\n      <td>55615.93</td>\n      <td>M</td>\n      <td>A</td>\n      <td>0.022</td>\n      <td>0.0010</td>\n    </tr>\n  </tbody>\n</table>\n</div>"
     },
     "metadata": {},
     "execution_count": 2
    }
   ],
   "source": [
    "#INPUTTING GIVEN DATA\n",
    "data = [[10, 'AAA', 0.021, 0.0002],\n",
    "        [25, 'BB', 0.022, 0.0058],\n",
    "        [4, 'A', 0.021, 0.0001],\n",
    "        [11, 'AA', 0.027, 0.0003],\n",
    "        [18, 'BBB', 0.025, 0.0024],\n",
    "        [3, 'AAA', 0.026, 0.0002],\n",
    "        [17, 'BB', 0.023, 0.0058],\n",
    "        [15, 'AAA', 0.021, 0.0002],\n",
    "        [9, 'A', 0.028, 0.001],\n",
    "        [10, 'A', 0.022, 0.001]]\n",
    "df = pd.DataFrame(data, columns=['Loan Age', 'Credit Rating', 'Interest Rate', 'Loan Loss'])    #converting into a Pandas Dataframe\n",
    "\n",
    "# L = []\n",
    "# for i in range(len(df)):\n",
    "#         L.append(round(50000 + random.random()*49999),2)\n",
    "\n",
    "L = [79959.32, 64334.01, 90327.01, 94408.92, 84621.19, 71544.0, 90366.16, 81913.15, 67991.48, 55615.93] #randomly generated values of loan size considering loan to be of medium category (explained in report)\n",
    "df.insert(1, \"Loan Size\", L, True)\n",
    "\n",
    "ltype = []      #determining Loan Type on the basis of Table 3\n",
    "for i in df['Interest Rate']:\n",
    "        if (i >= 0.021 and i <= 0.028) or i == 0:\n",
    "                ltype.append('M')\n",
    "        elif i >= 0.0339 and i <= 0.0399:\n",
    "                ltype.append('A')\n",
    "        elif i >= 0.0599 and i <= 0.0609:\n",
    "                ltype.append('P')\n",
    "        else:\n",
    "                ltype.append('')\n",
    "df.insert(2, \"Loan Type\", ltype, True)\n",
    "df"
   ]
  },
  {
   "cell_type": "code",
   "execution_count": null,
   "metadata": {},
   "outputs": [],
   "source": [
    "gen_population, gen_fit, gen_results, gen_avg_fit, gen_max_fit = gamcc(df)\n",
    "maxvalindex = gen_results['FitHist'].idxmax(axis = 0)\n",
    "print(gen_results['PopulationHist'][maxvalindex], gen_results['FitHist'][maxvalindex])"
   ]
  },
  {
   "cell_type": "code",
   "execution_count": null,
   "metadata": {},
   "outputs": [],
   "source": [
    "font = {'family':'calibri',\n",
    "        'color':'grey',\n",
    "        'weight':'bold',\n",
    "        'size':20}\n",
    "plt.plot(gen_avg_fit, label=\"Average Fitness per generation\")\n",
    "plt.plot(gen_max_fit, 'r--', label=\"Maximum Fitness per generation\")\n",
    "plt.legend()\n",
    "plt.title(\"Fitness vs Generations\", fontdict=font)\n",
    "plt.xlabel(\"Generations\")\n",
    "plt.ylabel(\"Fitness Value\")\n",
    "plt.show()"
   ]
  },
  {
   "cell_type": "code",
   "execution_count": null,
   "metadata": {},
   "outputs": [],
   "source": [
    "gen_results.to_csv('GAMCC/GAMCC_Results.csv', index=False)"
   ]
  },
  {
   "cell_type": "code",
   "execution_count": null,
   "metadata": {},
   "outputs": [],
   "source": [
    "simulation_solution, simulation_fit, simulation_results = sim_ann(df)\n",
    "maxvalindex = simulation_results['FitHist'].idxmax(axis = 0)\n",
    "print(simulation_results['SolutionHist'][maxvalindex], simulation_results['FitHist'][maxvalindex])"
   ]
  },
  {
   "cell_type": "code",
   "execution_count": null,
   "metadata": {},
   "outputs": [],
   "source": [
    "font = {'family':'calibri',\n",
    "        'color':'grey',\n",
    "        'weight':'bold',\n",
    "        'size':20}\n",
    "plt.plot(simulation_results['FitHist'], label=\"Fitness for each solution\")\n",
    "plt.legend()\n",
    "plt.title(\"Fitness vs Solution numbers\", fontdict=font)\n",
    "plt.xlabel(\"Solutions\")\n",
    "plt.ylabel(\"Fitness Value\")\n",
    "plt.show()"
   ]
  },
  {
   "cell_type": "code",
   "execution_count": null,
   "metadata": {},
   "outputs": [],
   "source": [
    "simulation_results.to_csv('Simulated Annealing/SimulatedAnnealing_Results.csv', index=False)"
   ]
  },
  {
   "cell_type": "code",
   "execution_count": null,
   "metadata": {},
   "outputs": [],
   "source": [
    "'''\n",
    "====================================================================================================\n",
    "ANALYZING THE RESULTS FOR COMPARISION BETWEEN GENETIC ALGORITHM AND SIMULATED ANNEALING\n",
    "====================================================================================================\n",
    "'''"
   ]
  },
  {
   "cell_type": "code",
   "execution_count": 3,
   "metadata": {},
   "outputs": [],
   "source": [
    "iterations = 100"
   ]
  },
  {
   "cell_type": "code",
   "execution_count": 4,
   "metadata": {},
   "outputs": [
    {
     "output_type": "stream",
     "name": "stderr",
     "text": "100%|██████████| 100/100 [03:20<00:00,  2.01s/it]\n"
    }
   ],
   "source": [
    "gen_max_fitness = []\n",
    "for i in tqdm(range(iterations)):\n",
    "    gen_population, gen_fit, gen_results, gen_avg_fit, gen_max_fit = gamcc(df)\n",
    "    gen_max_fitness.append(max(gen_results['FitHist']))"
   ]
  },
  {
   "cell_type": "code",
   "execution_count": 6,
   "metadata": {},
   "outputs": [
    {
     "output_type": "stream",
     "name": "stderr",
     "text": "100%|██████████| 100/100 [00:04<00:00, 22.06it/s]\n"
    }
   ],
   "source": [
    "simulation_max_fitness = []\n",
    "for i in tqdm(range(iterations)):\n",
    "    simulation_solution, simulation_fit, simulation_results = sim_ann(df)\n",
    "    simulation_max_fitness.append(max(simulation_results['FitHist']))"
   ]
  },
  {
   "cell_type": "code",
   "execution_count": 5,
   "metadata": {},
   "outputs": [],
   "source": [
    "def mean_confidence_interval(data, confidence=0.95):\n",
    "    a = 1.0 * np.array(data)\n",
    "    n = len(a)\n",
    "    m, se = np.mean(a), scipy.stats.sem(a)\n",
    "    h = se * scipy.stats.t.ppf((1 + confidence) / 2., n-1)\n",
    "    return m, m-h, m+h"
   ]
  },
  {
   "cell_type": "code",
   "execution_count": 7,
   "metadata": {},
   "outputs": [],
   "source": [
    "gen_m, gen_low, gen_high = mean_confidence_interval(gen_max_fitness)\n",
    "sim_m, sim_low, sim_high = mean_confidence_interval(simulation_max_fitness)"
   ]
  },
  {
   "cell_type": "code",
   "execution_count": 8,
   "metadata": {},
   "outputs": [
    {
     "output_type": "stream",
     "name": "stdout",
     "text": "Confidence interval for Genetic Algorithm maximum results is: 5080596.752357987 to 5090061.842367013\nConfidence interval for Simulated Annealing maximum results is: 4885101.989067129 to 4959440.946913469\n"
    }
   ],
   "source": [
    "print('Confidence interval for Genetic Algorithm maximum results is:', gen_low, 'to', gen_high)\n",
    "print('Confidence interval for Simulated Annealing maximum results is:', sim_low, 'to', sim_high)"
   ]
  },
  {
   "cell_type": "code",
   "execution_count": null,
   "metadata": {},
   "outputs": [],
   "source": []
  }
 ],
 "metadata": {
  "language_info": {
   "codemirror_mode": {
    "name": "ipython",
    "version": 3
   },
   "file_extension": ".py",
   "mimetype": "text/x-python",
   "name": "python",
   "nbconvert_exporter": "python",
   "pygments_lexer": "ipython3",
   "version": "3.6.10-final"
  },
  "orig_nbformat": 2,
  "kernelspec": {
   "name": "python36864bitc4ccf6c6738640a4aaf4b1c5ec43e9dc",
   "display_name": "Python 3.6.8 64-bit"
  }
 },
 "nbformat": 4,
 "nbformat_minor": 2
}